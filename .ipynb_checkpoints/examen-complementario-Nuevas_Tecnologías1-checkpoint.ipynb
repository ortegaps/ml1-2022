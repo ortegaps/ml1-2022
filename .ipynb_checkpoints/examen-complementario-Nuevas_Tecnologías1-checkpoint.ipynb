{
 "cells": [
  {
   "cell_type": "markdown",
   "id": "d670577d",
   "metadata": {
    "id": "d670577d"
   },
   "source": [
    "## Predicción de la popularidad de una canción\n",
    "\n",
    "En esta tarea, construirá un modelo para predecir la cantidad de reproducciones que tendrá una canción. Nuevamente, usaremos scikit-learn para entrenar y evaluar modelos de regresión y pandas para preprocesar los datos.\n",
    "\n",
    "En el proceso, encontrará algunos desafíos de modelado y veremos cómo enfrentarlos.\n",
    "\n",
    "Usaremos un conjunto de datos que poseen con una serie de estadísticas de canciones que fueron previamente calculados sobre el conjunto de datos original.\n",
    "\n",
    "Estos son:\n",
    "- plays: el número de veces que se ha reproducido una canción.\n",
    "- pctmale: porcentaje de reproducciones que provienen de usuarios \"male\" (masculinos).\n",
    "- age - edad promedio del oyente.\n",
    "- country1 - el país de los usuarios que más escucharon esta canción.\n",
    "- country2 - el país de los usuarios que escucharon esta canción en segundo lugar.\n",
    "- country3 - el país de los usuarios que escucharon esta canción en tercer lugar.\n",
    "- pctgt1: porcentaje de reproducciones que provienen de un usuario que ha reproducido la canción más de una vez.\n",
    "- pctgt2: porcentaje de reproducciones que provienen de un usuario que ha reproducido la canción más de dos veces.\n",
    "- pctgt5: porcentaje de reproducciones que provienen de un usuario que ha reproducido la canción más de cinco veces.\n",
    "- clúster: el \"número de clúster\" del artista asociado con esta canción. Elegimos 25 grupos de manera bastante arbitraria."
   ]
  },
  {
   "cell_type": "markdown",
   "id": "7223c00b",
   "metadata": {
    "id": "7223c00b"
   },
   "source": [
    "### 1. Exploración de datos"
   ]
  },
  {
   "cell_type": "markdown",
   "id": "05ee036f",
   "metadata": {
    "id": "05ee036f"
   },
   "source": [
    "**a.** Comenzar cargando los datos: se proporciona un \"conjunto de entrenamiento\" y un \"conjunto de validación\" para que pruebe sus modelos. El conjunto de entrenamiento son los ejemplos que usamos para crear nuestros modelos, mientras que el conjunto de validación es un conjunto de datos que \"obtenemos\" del proceso de ajuste del modelo, usamos estos ejemplos para probar si nuestros modelos predicen con precisión nuevos datos.\n",
    "- conjunto de entrenamiento: train_model_data.csv´\n",
    "- conjunto de validación: validation_model_data.csv"
   ]
  },
  {
   "cell_type": "code",
   "execution_count": null,
   "id": "ea6246df",
   "metadata": {
    "id": "ea6246df",
    "outputId": "dd0dc80d-5a18-42f9-a007-e9a4c6c270a6"
   },
   "outputs": [],
   "source": [
    "%pylab inline\n",
    "import pandas as pd\n",
    "\n",
    "# completar el PATH donde se encuentran los datos\n",
    "PATH = 'data'\n",
    "\n",
    "train = pd.read_csv(PATH + \"/train_model_data.csv\")\n",
    "validation = pd.read_csv(PATH + \"/validation_model_data.csv\")"
   ]
  },
  {
   "cell_type": "markdown",
   "id": "64495b3c",
   "metadata": {
    "id": "64495b3c"
   },
   "source": [
    "Ahora que tiene los datos cargados, explorelos, genere algunas estadísticas descriptivas y tenga una idea de lo que hay en el conjunto de datos. Para las variables categóricas, pruebe con pandas \".count_values()\" para tener una idea de las distribuciones más probables (países, etc.).\n",
    "\n",
    "**b**. En la siguiente celda, coloque algunos comandos que ejecutó para tener una idea de los datos."
   ]
  },
  {
   "cell_type": "code",
   "execution_count": null,
   "id": "218c5502",
   "metadata": {
    "id": "218c5502"
   },
   "outputs": [],
   "source": [
    "# TODO: comandos para la exploración de datos aquí"
   ]
  },
  {
   "cell_type": "markdown",
   "id": "eb3e4d34",
   "metadata": {
    "id": "eb3e4d34"
   },
   "source": [
    "**c**. A continuación, cree un diagrama de dispersión por parejas, _pairwise scatter plot_, de las siguientes columnas: plays, pctmale, age, pctgt1, pctgt2, pctgt5. (_Pista: https://pandas.pydata.org/docs/reference/api/pandas.plotting.scatter_matrix.html_)\n",
    "\n",
    "¿Notas algo sobre los datos en esta vista? ¿Qué pasa con la relación entre obras de teatro y otras columnas?"
   ]
  },
  {
   "cell_type": "code",
   "execution_count": null,
   "id": "14133c63",
   "metadata": {
    "id": "14133c63"
   },
   "outputs": [],
   "source": [
    "# TODO: comandos para generar un scatter plot aquí."
   ]
  },
  {
   "cell_type": "markdown",
   "id": "f3737438",
   "metadata": {
    "id": "f3737438"
   },
   "source": [
    "> TODO: ¿Qué notas sobre los datos en esta vista? Escribe tu respuesta aquí."
   ]
  },
  {
   "cell_type": "markdown",
   "id": "79315b91",
   "metadata": {
    "id": "79315b91"
   },
   "source": [
    "### 2. Preparación de datos e introducción a la regresión lineal\n",
    "\n",
    "*scikit-learn* hace varias cosas muy bien, pero una de las cosas que no maneja con facilidad es la falta de datos categóricos. Los datos categóricos son datos que pueden tomar un conjunto finito de valores, por ejemplo, una variable categórica puede ser el color de un semáforo (Rojo, Amarillo, Verde), esto contrasta con variables continuas como números reales en el rango -Infinito a +Infinito. "
   ]
  },
  {
   "cell_type": "markdown",
   "id": "217e3ecb",
   "metadata": {
    "id": "217e3ecb"
   },
   "source": [
    "**c**. En esta parte del ejercicio, eliminemos las variables categóricas y *imputemos* los valores faltantes con pandas. Escriba una función para eliminar todas las variables categóricas del conjunto de datos y retornar dos DataFrames de pandas:\n",
    "\n",
    "1. Un DataFrame con todos los elementos categóricos y la columna de respuesta especificada por el usuario eliminada.\n",
    "2. Un DataFrame que contiene solo la columna de respuesta."
   ]
  },
  {
   "cell_type": "code",
   "execution_count": null,
   "id": "3a6a5b9d",
   "metadata": {
    "id": "3a6a5b9d"
   },
   "outputs": [],
   "source": [
    "def basic_prep(datos, col):\n",
    "    #TODO: ¡haga una copia del conjunto de datos original pero con las variables categóricas eliminadas! \n",
    "    #*Cluster* debe considerarse como una variable categórica y debe eliminarse! Utilice la función \".drop\" de pandas.\n",
    "    \n",
    "    #TODO - imputa los valores faltantes con el promedio de esas columnas, usa la función pandas \".fillna\" para lograr esto.  \n",
    "    \n",
    "    pass\n",
    "\n",
    "#Esto creará dos nuevos data frames, uno que contiene datos de entrenamiento; en este caso, todas las columnas numéricas,\n",
    "#y uno que contiene datos de respuesta, en este caso, la columna \"plays\".\n",
    "train_basic_features, train_basic_response = basic_prep(train, 'plays')\n",
    "validation_basic_features, validation_basic_response = basic_prep(validation, 'plays')"
   ]
  },
  {
   "cell_type": "markdown",
   "id": "307c2f4a",
   "metadata": {},
   "source": [
    "**d.** Ajuste a un modelo `LinearRegression` con scikit-learn y devuelva la puntuación del modelo tanto en los datos de entrenamiento como en los datos de validación."
   ]
  },
  {
   "cell_type": "code",
   "execution_count": null,
   "id": "2e577d2f",
   "metadata": {},
   "outputs": [],
   "source": [
    "from sklearn import linear_model\n",
    "\n",
    "def fit_model(X, y):\n",
    "    #TODO - Escriba una función que ajuste un modelo lineal a un conjunto de datos dada una columna de valores para predecir.\n",
    "    pass\n",
    "\n",
    "def score_model(model, X, y, Xv, yv):\n",
    "    #TODO - Escriba una función que retorne los puntajes (scores) del modelo  \n",
    "    pass\n",
    "\n",
    "def fit_model_and_score(data, response, validation, val_response):\n",
    "    #TODO - Dado un conjunto de datos de entrenamiento, un conjunto de datos de validación y el nombre de una columna para predecir, \n",
    "    #Usar el método \".score()\", para retornar el puntaje del modelo sobre los datos de entrenamiento *y* validación\n",
    "\n",
    "    pass\n",
    "    #END TODO\n",
    "\n",
    "print fit_model_and_score(train_basic_features, train_basic_response, validation_basic_features, validation_basic_response)\n",
    "\n",
    "model = fit_model(train_basic_features, train_basic_response)"
   ]
  },
  {
   "cell_type": "markdown",
   "id": "5f2ab192",
   "metadata": {},
   "source": [
    "**e.** Interprete los resultados obtenidos"
   ]
  },
  {
   "cell_type": "markdown",
   "id": "07e31e9d",
   "metadata": {},
   "source": [
    "> TODO: ¿Qué ocurrió? ¿Qué muestra el modelo? Escribe tu respuesta aquí."
   ]
  },
  {
   "cell_type": "code",
   "execution_count": null,
   "id": "19f94e17",
   "metadata": {},
   "outputs": [],
   "source": []
  }
 ],
 "metadata": {
  "colab": {
   "name": "examen-complementario-Nuevas_Tecnologías1.ipynb",
   "provenance": []
  },
  "kernelspec": {
   "display_name": "Python 3 (ipykernel)",
   "language": "python",
   "name": "python3"
  },
  "language_info": {
   "codemirror_mode": {
    "name": "ipython",
    "version": 3
   },
   "file_extension": ".py",
   "mimetype": "text/x-python",
   "name": "python",
   "nbconvert_exporter": "python",
   "pygments_lexer": "ipython3",
   "version": "3.9.12"
  }
 },
 "nbformat": 4,
 "nbformat_minor": 5
}
